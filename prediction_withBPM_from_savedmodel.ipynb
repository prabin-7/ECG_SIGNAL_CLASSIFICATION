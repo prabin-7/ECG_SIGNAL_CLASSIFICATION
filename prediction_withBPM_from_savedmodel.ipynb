{
  "cells": [
    {
      "cell_type": "code",
      "execution_count": null,
      "metadata": {
        "id": "8K1WB-tDuFBd"
      },
      "outputs": [],
      "source": [
        "import numpy\n",
        "import matplotlib.pyplot as plt\n",
        "import pandas\n",
        "import math\n",
        "from keras.models import Sequential\n",
        "from keras.layers import Dense, LSTM, Dropout, Bidirectional, Conv1D, MaxPooling1D, Flatten\n",
        "from sklearn.preprocessing import MinMaxScaler\n",
        "from sklearn.metrics import mean_squared_error\n",
        "import pandas as pd\n",
        "import scipy.io as sio\n",
        "from os import listdir\n",
        "from os.path import isfile, join\n",
        "import numpy as np\n",
        "import keras\n",
        "\n",
        "from keras.models import Sequential\n",
        "from keras.layers import Bidirectional, LSTM, Dropout, Dense\n",
        "from keras.optimizers import Adam\n",
        "from keras.callbacks import EarlyStopping, LearningRateScheduler\n",
        "import tensorflow as tf"
      ]
    },
    {
      "cell_type": "code",
      "execution_count": null,
      "metadata": {
        "colab": {
          "base_uri": "https://localhost:8080/"
        },
        "id": "7sbRX8GbuExF",
        "outputId": "06f4b91f-52ff-43b8-fccc-3c2e53d96a87"
      },
      "outputs": [
        {
          "output_type": "stream",
          "name": "stdout",
          "text": [
            "Mounted at /content/drive\n"
          ]
        }
      ],
      "source": [
        "from google.colab import drive\n",
        "import os\n",
        "\n",
        "# Mount Google Drive\n",
        "drive.mount('/content/drive')"
      ]
    },
    {
      "cell_type": "code",
      "execution_count": null,
      "metadata": {
        "id": "Gbf2_8LZusuc"
      },
      "outputs": [],
      "source": [
        "from keras.models import load_model"
      ]
    },
    {
      "cell_type": "code",
      "execution_count": null,
      "metadata": {
        "id": "oFsarbIuvJfW"
      },
      "outputs": [],
      "source": [
        "model = load_model('/content/drive/MyDrive/dataset/ecg_model_40_ephos.h5')"
      ]
    },
    {
      "cell_type": "code",
      "execution_count": null,
      "metadata": {
        "colab": {
          "base_uri": "https://localhost:8080/"
        },
        "id": "kACXPZuxt2xK",
        "outputId": "ab43a2c6-f763-4e3e-cd43-28d8b94fcf0b"
      },
      "outputs": [
        {
          "output_type": "execute_result",
          "data": {
            "text/plain": [
              "(16507, 1)"
            ]
          },
          "metadata": {},
          "execution_count": 135
        }
      ],
      "source": [
        "out = pd.read_csv('/content/drive/MyDrive/code_data_major/330hz/esp32_sampleonly_bikesh.csv', header=None)\n",
        "\n",
        "shape= out.shape\n",
        "out.shape"
      ]
    },
    {
      "cell_type": "code",
      "execution_count": null,
      "metadata": {
        "id": "hDRyFxc7uf1G"
      },
      "outputs": [],
      "source": [
        "out=np.array(out)\n",
        "out=out.reshape(1,shape[0])"
      ]
    },
    {
      "cell_type": "code",
      "execution_count": null,
      "metadata": {
        "id": "gKrf8U0mu4P7"
      },
      "outputs": [],
      "source": [
        "out=out[:,0:9000]"
      ]
    },
    {
      "cell_type": "code",
      "execution_count": null,
      "metadata": {
        "id": "b1hrDHrgup9W"
      },
      "outputs": [],
      "source": [
        "beat_calc=out"
      ]
    },
    {
      "cell_type": "code",
      "execution_count": null,
      "metadata": {
        "id": "-dxSEGlQvAZ9"
      },
      "outputs": [],
      "source": [
        "out=out.reshape(1,1,9000)"
      ]
    },
    {
      "cell_type": "code",
      "execution_count": null,
      "metadata": {
        "colab": {
          "base_uri": "https://localhost:8080/"
        },
        "id": "ko21qQqevQLq",
        "outputId": "a59cf439-5918-43cb-f6cc-2a598ca54b61"
      },
      "outputs": [
        {
          "output_type": "stream",
          "name": "stdout",
          "text": [
            "1/1 [==============================] - 0s 87ms/step\n"
          ]
        }
      ],
      "source": [
        "pre=model.predict(out)"
      ]
    },
    {
      "cell_type": "code",
      "execution_count": null,
      "metadata": {
        "colab": {
          "base_uri": "https://localhost:8080/"
        },
        "id": "MuwV-3xaveV4",
        "outputId": "d90f320f-c072-4d36-a207-980aeb55d301"
      },
      "outputs": [
        {
          "output_type": "execute_result",
          "data": {
            "text/plain": [
              "array([[9.9940062e-01, 2.2153583e-06, 5.9714448e-04, 4.3591650e-10]],\n",
              "      dtype=float32)"
            ]
          },
          "metadata": {},
          "execution_count": 141
        }
      ],
      "source": [
        "pre"
      ]
    },
    {
      "cell_type": "code",
      "execution_count": null,
      "metadata": {
        "colab": {
          "base_uri": "https://localhost:8080/"
        },
        "id": "6kCC7KoIvfLo",
        "outputId": "4c383d52-a01c-4127-cf68-3c0dec8a3026"
      },
      "outputs": [
        {
          "output_type": "execute_result",
          "data": {
            "text/plain": [
              "0"
            ]
          },
          "metadata": {},
          "execution_count": 142
        }
      ],
      "source": [
        "pre.argmax()"
      ]
    },
    {
      "cell_type": "code",
      "source": [
        "out.shape"
      ],
      "metadata": {
        "colab": {
          "base_uri": "https://localhost:8080/"
        },
        "id": "r0EOzJ5_cjzZ",
        "outputId": "a40ab19b-2f8f-45b4-fa3b-e6c7633d06a9"
      },
      "execution_count": null,
      "outputs": [
        {
          "output_type": "execute_result",
          "data": {
            "text/plain": [
              "(1, 1, 9000)"
            ]
          },
          "metadata": {},
          "execution_count": 143
        }
      ]
    },
    {
      "cell_type": "code",
      "source": [
        "import matplotlib.pyplot as plt\n",
        "\n",
        "# Load the array\n",
        "ecg_data_1 = out\n",
        "\n",
        "# Plot the ECG signal\n",
        "plt.figure(figsize=(10, 4))\n",
        "plt.plot(ecg_data_1.ravel(), color='blue')\n",
        "plt.title('Normal ECG Signal Sample_1')\n",
        "plt.xlabel('Sample Index')\n",
        "plt.ylabel('Amplitude')\n",
        "plt.grid(True)\n",
        "plt.show()"
      ],
      "metadata": {
        "colab": {
          "base_uri": "https://localhost:8080/",
          "height": 410
        },
        "id": "oOXeTQrEHQUQ",
        "outputId": "c53ba41f-e8c5-4f88-dab1-97e92f054f58"
      },
      "execution_count": null,
      "outputs": [
        {
          "output_type": "display_data",
          "data": {
            "text/plain": [
              "<Figure size 1000x400 with 1 Axes>"
            ],
            "image/png": "[encoded data removed]"
          },
          "metadata": {}
        }
      ]
    },
    {
      "cell_type": "code",
      "execution_count": null,
      "metadata": {
        "id": "m_YEoNg5vmFV"
      },
      "outputs": [],
      "source": [
        "import numpy as np\n",
        "import matplotlib.pyplot as plt\n",
        "from scipy.signal import find_peaks, butter, lfilter\n",
        "import pandas as pd"
      ]
    },
    {
      "cell_type": "code",
      "source": [
        "ecg_signal= beat_calc"
      ],
      "metadata": {
        "id": "GInwkD_bZDSu"
      },
      "execution_count": null,
      "outputs": []
    },
    {
      "cell_type": "code",
      "source": [
        "signal = beat_calc"
      ],
      "metadata": {
        "id": "DE-y2QtBTN-4"
      },
      "execution_count": null,
      "outputs": []
    },
    {
      "cell_type": "code",
      "source": [
        "# Function to implement a bandpass filter\n",
        "def bandpass_filter(data, lowcut, highcut, fs, order=1):\n",
        "    nyquist = 0.5 * fs\n",
        "    low = lowcut / nyquist\n",
        "    high = highcut / nyquist\n",
        "    b, a = butter_bandpass(low, high, order)\n",
        "    y = lfilter(b, a, data)\n",
        "    return y\n",
        "\n",
        "# Helper function for the bandpass filter\n",
        "def butter_bandpass(lowcut, highcut, fs, order=1):\n",
        "    nyquist = 0.5 * fs\n",
        "    low = lowcut / nyquist\n",
        "    high = highcut / nyquist\n",
        "    b, a = butter(order, [low, high], btype='band')\n",
        "    return b, a\n",
        "\n",
        "# Function to implement the Pan-Tompkins QRS detection algorithm\n",
        "def pan_tompkins_filter(ecg_signal, sampling_rate=300):\n",
        "    # Bandpass filter the signal\n",
        "    filtered_signal = bandpass_filter(ecg_signal, 0.5, 50.0, sampling_rate)\n",
        "\n",
        "    # Differentiate the signal\n",
        "    diff_signal = np.diff(filtered_signal)\n",
        "\n",
        "    # Squaring\n",
        "    squared_signal = diff_signal**2\n",
        "\n",
        "    # Moving Window Integration\n",
        "    integration_window = int(sampling_rate * 0.100)  # 100 ms window\n",
        "    integrated_signal = np.convolve(squared_signal, np.ones(integration_window)/integration_window, mode='same')\n",
        "\n",
        "    # Find peaks in the integrated signal\n",
        "    peaks, _ = find_peaks(integrated_signal, height=0.005, distance=int(sampling_rate * 0.6))\n",
        "\n",
        "    return  peaks"
      ],
      "metadata": {
        "id": "0jg7tRrKSpo9"
      },
      "execution_count": null,
      "outputs": []
    },
    {
      "cell_type": "code",
      "source": [
        "print(ecg_signal.shape)"
      ],
      "metadata": {
        "colab": {
          "base_uri": "https://localhost:8080/"
        },
        "id": "4iX5bnbYZRuA",
        "outputId": "1f21fdaa-1730-48fa-d750-62ec07e8d5cb"
      },
      "execution_count": null,
      "outputs": [
        {
          "output_type": "stream",
          "name": "stdout",
          "text": [
            "(1, 9000)\n"
          ]
        }
      ]
    },
    {
      "cell_type": "code",
      "source": [
        "signal = ecg_signal.reshape(-1)"
      ],
      "metadata": {
        "id": "h876Ya6WZVT6"
      },
      "execution_count": null,
      "outputs": []
    },
    {
      "cell_type": "code",
      "source": [
        "print(signal.shape)"
      ],
      "metadata": {
        "colab": {
          "base_uri": "https://localhost:8080/"
        },
        "id": "AiAYNIEUZcpj",
        "outputId": "25e60145-0982-4670-ddb8-31294786b2be"
      },
      "execution_count": null,
      "outputs": [
        {
          "output_type": "stream",
          "name": "stdout",
          "text": [
            "(9000,)\n"
          ]
        }
      ]
    },
    {
      "cell_type": "code",
      "source": [
        "peaks = pan_tompkins_filter(signal)"
      ],
      "metadata": {
        "id": "mntXBeQ7S5OF"
      },
      "execution_count": null,
      "outputs": []
    },
    {
      "cell_type": "code",
      "source": [
        "peaks"
      ],
      "metadata": {
        "colab": {
          "base_uri": "https://localhost:8080/"
        },
        "id": "Zt01CejcTVAF",
        "outputId": "97bd9b2c-5e2a-4fad-9490-815527e67b79"
      },
      "execution_count": null,
      "outputs": [
        {
          "output_type": "execute_result",
          "data": {
            "text/plain": [
              "array([  15,  368,  710, 1055, 1404, 1588, 1936, 2288, 2474, 2664, 2854,\n",
              "       3044, 3235, 3426, 3610, 3798, 3981, 4337, 4522, 4881, 5066, 5248,\n",
              "       5430, 5621, 5806, 5994, 6185, 6369, 6555, 6737, 6918, 7266, 7448,\n",
              "       7640, 7957, 8300, 8644, 8984])"
            ]
          },
          "metadata": {},
          "execution_count": 169
        }
      ]
    },
    {
      "cell_type": "code",
      "source": [
        "peak_times = peaks / 300  # Convert peak indices to time (seconds)\n",
        "peak_intervals = np.diff(peak_times) # Compute time intervals between peaks\n",
        "\n",
        "# Convert time intervals to beats per minute (BPM)\n",
        "heartbeat_rates = 60 / peak_intervals  # Convert intervals to BPM\n",
        "\n",
        "# Print heartbeat rates\n",
        "print(\"Heartbeat Rates (BPM):\", heartbeat_rates)\n",
        "\n",
        "# Calculate average heartbeat rate\n",
        "average_heartbeat_rate = int(np.mean(heartbeat_rates))\n",
        "print(\"Average Heartbeat Rate (BPM):\", average_heartbeat_rate)"
      ],
      "metadata": {
        "colab": {
          "base_uri": "https://localhost:8080/"
        },
        "id": "w0coUPsMTU58",
        "outputId": "854b290c-e8d6-4726-c4a3-695b59b99c93"
      },
      "execution_count": null,
      "outputs": [
        {
          "output_type": "stream",
          "name": "stdout",
          "text": [
            "Heartbeat Rates (BPM): [50.99150142 52.63157895 52.17391304 51.57593123 97.82608696 51.72413793\n",
            " 51.13636364 96.77419355 94.73684211 94.73684211 94.73684211 94.2408377\n",
            " 94.2408377  97.82608696 95.74468085 98.36065574 50.56179775 97.2972973\n",
            " 50.13927577 97.2972973  98.9010989  98.9010989  94.2408377  97.2972973\n",
            " 95.74468085 94.2408377  97.82608696 96.77419355 98.9010989  99.44751381\n",
            " 51.72413793 98.9010989  93.75       56.78233438 52.47813411 52.3255814\n",
            " 52.94117647]\n",
            "Average Heartbeat Rate (BPM): 80\n"
          ]
        }
      ]
    },
    {
      "cell_type": "code",
      "source": [],
      "metadata": {
        "id": "-G8ykzoMTU3J"
      },
      "execution_count": null,
      "outputs": []
    }
  ],
  "metadata": {
    "colab": {
      "provenance": []
    },
    "kernelspec": {
      "display_name": "Python 3",
      "name": "python3"
    },
    "language_info": {
      "name": "python"
    }
  },
  "nbformat": 4,
  "nbformat_minor": 0
}