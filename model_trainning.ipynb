{
  "cells": [
    {
      "cell_type": "code",
      "execution_count": null,
      "metadata": {
        "id": "devzMj45sh43"
      },
      "outputs": [],
      "source": [
        "import numpy\n",
        "import matplotlib.pyplot as plt\n",
        "import pandas\n",
        "import math\n",
        "from keras.models import Sequential\n",
        "from keras.layers import Dense, LSTM, Dropout, Bidirectional, Conv1D, MaxPooling1D, Flatten\n",
        "from sklearn.preprocessing import MinMaxScaler\n",
        "from sklearn.metrics import mean_squared_error\n",
        "import pandas as pd\n",
        "import scipy.io as sio\n",
        "from os import listdir\n",
        "from os.path import isfile, join\n",
        "import numpy as np\n",
        "import keras\n",
        "\n",
        "from tensorflow.keras.models import Sequential\n",
        "from tensorflow.keras.layers import Bidirectional, LSTM, Dropout, Dense\n",
        "from tensorflow.keras.optimizers import Adam\n",
        "from tensorflow.keras.callbacks import EarlyStopping, LearningRateScheduler\n",
        "import tensorflow as tf"
      ]
    },
    {
      "cell_type": "code",
      "source": [
        "from google.colab import drive\n",
        "import zipfile\n",
        "import os\n",
        "\n",
        "# Mount Google Drive\n",
        "drive.mount('/content/drive')"
      ],
      "metadata": {
        "colab": {
          "base_uri": "https://localhost:8080/"
        },
        "id": "O5ULa6yn253k",
        "outputId": "8fbcbc37-6bc5-4603-9360-9e28df99af09"
      },
      "execution_count": null,
      "outputs": [
        {
          "output_type": "stream",
          "name": "stdout",
          "text": [
            "Mounted at /content/drive\n"
          ]
        }
      ]
    },
    {
      "cell_type": "code",
      "execution_count": null,
      "metadata": {
        "colab": {
          "base_uri": "https://localhost:8080/"
        },
        "id": "EIkrK424soH9",
        "outputId": "5540b131-9387-40c9-b935-8078564f000d"
      },
      "outputs": [
        {
          "output_type": "stream",
          "name": "stdout",
          "text": [
            "Files extracted to /content/drive/MyDrive/dataset/: ['training2017-20240215T030806Z-001.zip', 'data_second.csv', 'new3rd.csv', 'training2017']\n"
          ]
        }
      ],
      "source": [
        "\n",
        "\n",
        "# Set the path for the dataset folder in Google Drive\n",
        "drive_path = '/content/drive/MyDrive/dataset/'\n",
        "\n",
        "# Specify the path to your zip file\n",
        "zip_file_path = '/content/drive/MyDrive/dataset/training2017-20240215T030806Z-001.zip'\n",
        "\n",
        "# Extract the contents of the zip file\n",
        "with zipfile.ZipFile(zip_file_path, 'r') as zip_ref:\n",
        "    zip_ref.extractall(drive_path)\n",
        "\n",
        "# List the files in the extracted folder\n",
        "extracted_files = os.listdir(drive_path)\n",
        "print(f\"Files extracted to {drive_path}: {extracted_files}\")\n"
      ]
    },
    {
      "cell_type": "code",
      "execution_count": null,
      "metadata": {
        "id": "U-AgpO1Asy_S"
      },
      "outputs": [],
      "source": [
        "number_of_classes = 4"
      ]
    },
    {
      "cell_type": "code",
      "execution_count": null,
      "metadata": {
        "id": "UL_b5EOXs1mp"
      },
      "outputs": [],
      "source": [
        "def discritize(x):\n",
        "    answer = np.zeros((np.shape(x)[0]))\n",
        "    for i in range(np.shape(x)[0]):\n",
        "        max_value = max(x[i, :])\n",
        "        max_index = list(x[i, :]).index(max_value)\n",
        "        answer[i] = max_index\n",
        "    return answer.astype(np.int)"
      ]
    },
    {
      "cell_type": "code",
      "execution_count": null,
      "metadata": {
        "colab": {
          "base_uri": "https://localhost:8080/"
        },
        "id": "Mcby7Pgis49I",
        "outputId": "dc2d0546-0198-421b-c878-f2990eb2f4a5"
      },
      "outputs": [
        {
          "output_type": "execute_result",
          "data": {
            "text/plain": [
              "9000"
            ]
          },
          "metadata": {},
          "execution_count": 8
        }
      ],
      "source": [
        "mypath = '/content/drive/MyDrive/dataset/training2017/'\n",
        "onlyfiles = [f for f in listdir(mypath) if (isfile(join(mypath, f)) and f[0] == 'A')]\n",
        "bats = [f for f in onlyfiles if f[7] == 'm']\n",
        "mats = [f for f in bats if (np.shape(sio.loadmat(mypath + f)['val'])[1] >= 9000)]\n",
        "SampleSize = np.shape(sio.loadmat(mypath + mats[0])['val'])[1]\n",
        "\n",
        "SampleSize\n"
      ]
    },
    {
      "cell_type": "code",
      "execution_count": null,
      "metadata": {
        "id": "VsAutAY1u9AC"
      },
      "outputs": [],
      "source": [
        "SampleSize = 9000"
      ]
    },
    {
      "cell_type": "code",
      "execution_count": null,
      "metadata": {
        "id": "f1prw9xqvNYm"
      },
      "outputs": [],
      "source": [
        "from sklearn.utils import shuffle\n",
        "from sklearn.utils import resample\n",
        "\n",
        "Train_data = pd.read_csv(mypath + 'REFERENCE.csv', sep=',', header=None, names=None)\n",
        "df_1 = Train_data[Train_data[1]=='A']\n",
        "df_2 = Train_data[Train_data[1]=='N']\n",
        "df_3 = Train_data[Train_data[1]=='O']\n",
        "df_4 = Train_data[Train_data[1]=='~']\n",
        "\n",
        "df_1_upsample = resample(df_1, replace=True, n_samples=5500, random_state=123)\n",
        "df_2_upsample = resample(df_2, replace=True, n_samples=5500, random_state=124)\n",
        "df_3_upsample = resample(df_3, replace=True, n_samples=5500, random_state=125)\n",
        "df_4_upsample = resample(df_4, replace=True, n_samples=8500, random_state=126)\n",
        "\n",
        "training_data = pd.concat([df_1_upsample, df_2_upsample, df_3_upsample, df_4_upsample])\n",
        "TrainDataSuffled = shuffle(training_data)"
      ]
    },
    {
      "cell_type": "code",
      "execution_count": null,
      "metadata": {
        "id": "Py0_zaklvQ-m"
      },
      "outputs": [],
      "source": [
        "FileList = list(TrainDataSuffled[0] + '.mat')\n",
        "#len(FileList)"
      ]
    },
    {
      "cell_type": "code",
      "execution_count": null,
      "metadata": {
        "colab": {
          "base_uri": "https://localhost:8080/"
        },
        "id": "c7G0kLTJvSmu",
        "outputId": "88bfeed2-a6d9-46ac-89c2-a7dec75a7581"
      },
      "outputs": [
        {
          "output_type": "stream",
          "name": "stdout",
          "text": [
            "(738, 2) (5050, 2) (2456, 2) (284, 2)\n"
          ]
        }
      ],
      "source": [
        "print(df_1.shape, df_2.shape, df_3.shape, df_4.shape)"
      ]
    },
    {
      "cell_type": "code",
      "execution_count": null,
      "metadata": {
        "colab": {
          "base_uri": "https://localhost:8080/"
        },
        "id": "14FjNvx7vgHH",
        "outputId": "2106a70e-ce34-487f-e32e-8405e5983ca6"
      },
      "outputs": [
        {
          "output_type": "execute_result",
          "data": {
            "text/plain": [
              "5939"
            ]
          },
          "metadata": {},
          "execution_count": 13
        }
      ],
      "source": [
        "DelRows = []\n",
        "for i in range(len(FileList)):\n",
        "  #print(i)\n",
        "  if (sio.loadmat(mypath + FileList[i])['val']).shape[1]<9000:\n",
        "    DelRows.append(FileList[i])\n",
        "\n",
        "len(DelRows)"
      ]
    },
    {
      "cell_type": "code",
      "execution_count": null,
      "metadata": {
        "colab": {
          "base_uri": "https://localhost:8080/"
        },
        "id": "6iq20zS9vjW1",
        "outputId": "54321e24-c453-4a31-bb5e-8afc258ed5cd"
      },
      "outputs": [
        {
          "output_type": "execute_result",
          "data": {
            "text/plain": [
              "19061"
            ]
          },
          "metadata": {},
          "execution_count": 14
        }
      ],
      "source": [
        "for j in range(len(DelRows)):\n",
        "  TrainDataSuffled.drop(TrainDataSuffled.loc[TrainDataSuffled[0] == DelRows[j][0:6]].index, inplace = True)\n",
        "\n",
        "NewFileList = list(TrainDataSuffled[0]+'.mat')\n",
        "len(NewFileList)"
      ]
    },
    {
      "cell_type": "code",
      "execution_count": null,
      "metadata": {
        "colab": {
          "base_uri": "https://localhost:8080/"
        },
        "id": "XST6v6-8vnN2",
        "outputId": "adfb62e9-98bf-4e28-e9e9-c227c498d181"
      },
      "outputs": [
        {
          "output_type": "execute_result",
          "data": {
            "text/plain": [
              "19061"
            ]
          },
          "metadata": {},
          "execution_count": 15
        }
      ],
      "source": [
        "len(NewFileList)"
      ]
    },
    {
      "cell_type": "code",
      "execution_count": null,
      "metadata": {
        "id": "tiWh4nI5vvZt"
      },
      "outputs": [],
      "source": [
        "X = np.zeros((len(NewFileList), SampleSize))\n",
        "for i in range(len(NewFileList)):\n",
        "    X[i, :] = sio.loadmat(mypath + NewFileList[i])['val'][0, :9000]\n",
        "    #print(i)"
      ]
    },
    {
      "cell_type": "code",
      "execution_count": null,
      "metadata": {
        "colab": {
          "base_uri": "https://localhost:8080/"
        },
        "id": "uiqsIjksvwSn",
        "outputId": "ca304d89-3e28-42e7-f738-23bc9e2d4519"
      },
      "outputs": [
        {
          "output_type": "execute_result",
          "data": {
            "text/plain": [
              "(19061, 9000)"
            ]
          },
          "metadata": {},
          "execution_count": 17
        }
      ],
      "source": [
        "X.shape"
      ]
    },
    {
      "cell_type": "code",
      "execution_count": null,
      "metadata": {
        "colab": {
          "base_uri": "https://localhost:8080/"
        },
        "id": "MtZ4zKarvy8N",
        "outputId": "72915ed9-7d9b-4173-ba63-be94d8290d81"
      },
      "outputs": [
        {
          "output_type": "execute_result",
          "data": {
            "text/plain": [
              "(19061, 19061)"
            ]
          },
          "metadata": {},
          "execution_count": 18
        }
      ],
      "source": [
        "len(NewFileList), TrainDataSuffled.shape[0]"
      ]
    },
    {
      "cell_type": "code",
      "execution_count": null,
      "metadata": {
        "id": "CUDqt8KWv2WW"
      },
      "outputs": [],
      "source": [
        "target_train = np.zeros((len(NewFileList), 1))\n",
        "#TrainDataSuffled  NewFileList\n",
        "#Train_data = pd.read_csv(mypath + 'REFERENCE.csv', sep=',', header=None, names=None)\n",
        "for i in range(len(NewFileList)):\n",
        "    if Train_data.loc[Train_data[0] == NewFileList[i][:6], 1].values == 'N':\n",
        "        target_train[i] = 0\n",
        "    elif Train_data.loc[Train_data[0] == NewFileList[i][:6], 1].values == 'A':\n",
        "        target_train[i] = 1\n",
        "    elif Train_data.loc[Train_data[0] == NewFileList[i][:6], 1].values == 'O':\n",
        "        target_train[i] = 2\n",
        "    else:\n",
        "        target_train[i] = 3"
      ]
    },
    {
      "cell_type": "code",
      "execution_count": null,
      "metadata": {
        "id": "WsydeZmevki2"
      },
      "outputs": [],
      "source": [
        "number_of_classes = 4"
      ]
    },
    {
      "cell_type": "code",
      "execution_count": null,
      "metadata": {
        "colab": {
          "base_uri": "https://localhost:8080/"
        },
        "id": "97bKAxC4v4K9",
        "outputId": "ed2792d4-edfd-4fae-b448-4cbe1095a9d1"
      },
      "outputs": [
        {
          "output_type": "stream",
          "name": "stderr",
          "text": [
            "<ipython-input-86-804af812e2c2>:4: DeprecationWarning: Conversion of an array with ndim > 0 to a scalar is deprecated, and will error in future. Ensure you extract a single element from your array before performing this operation. (Deprecated NumPy 1.25.)\n",
            "  dummy[int(target_train[i])] = 1\n"
          ]
        }
      ],
      "source": [
        "Label_set = np.zeros((len(NewFileList), number_of_classes))\n",
        "for i in range(np.shape(target_train)[0]):\n",
        "    dummy = np.zeros((number_of_classes))\n",
        "    dummy[int(target_train[i])] = 1\n",
        "    Label_set[i, :] = dummy"
      ]
    },
    {
      "cell_type": "code",
      "execution_count": null,
      "metadata": {
        "id": "W91OBcQ3v769"
      },
      "outputs": [],
      "source": [
        "train_len = 0.8 #0.75\n",
        "X_train = X[:int(train_len*len(NewFileList)), :]\n",
        "Y_train = Label_set[:int(train_len*len(NewFileList)), :]\n",
        "X_val = X[int(train_len*len(NewFileList)):, :]\n",
        "Y_val = Label_set[int(train_len*len(NewFileList)):, :]"
      ]
    },
    {
      "cell_type": "code",
      "execution_count": null,
      "metadata": {
        "id": "YrZ0dM6OwA2A"
      },
      "outputs": [],
      "source": [
        "X_train = numpy.reshape(X_train, (X_train.shape[0], 1, X_train.shape[1]))\n",
        "X_val = numpy.reshape(X_val, (X_val.shape[0], 1, X_val.shape[1]))"
      ]
    },
    {
      "cell_type": "code",
      "execution_count": null,
      "metadata": {
        "colab": {
          "base_uri": "https://localhost:8080/"
        },
        "id": "ftyE8C6twDWd",
        "outputId": "e2be440c-e96b-4090-803c-0ea1bb63e86b"
      },
      "outputs": [
        {
          "output_type": "stream",
          "name": "stdout",
          "text": [
            "(15248, 1, 9000) (3813, 1, 9000) 9000\n"
          ]
        }
      ],
      "source": [
        "print(X_train.shape, X_val.shape, SampleSize)"
      ]
    },
    {
      "cell_type": "code",
      "execution_count": null,
      "metadata": {
        "colab": {
          "base_uri": "https://localhost:8080/"
        },
        "id": "NLOszkZlwFtN",
        "outputId": "3c8ff98a-16d3-43fd-d5c0-9b8f18fce17f"
      },
      "outputs": [
        {
          "output_type": "execute_result",
          "data": {
            "text/plain": [
              "array([3947., 3787., 4021., 3493.])"
            ]
          },
          "metadata": {},
          "execution_count": 90
        }
      ],
      "source": [
        "sum(Y_train)"
      ]
    },
    {
      "cell_type": "code",
      "execution_count": null,
      "metadata": {
        "colab": {
          "base_uri": "https://localhost:8080/"
        },
        "id": "rrNo1AKWwGht",
        "outputId": "d6eab144-80f9-42c2-f514-040241f4156f"
      },
      "outputs": [
        {
          "output_type": "execute_result",
          "data": {
            "text/plain": [
              "array([ 980.,  913., 1056.,  864.])"
            ]
          },
          "metadata": {},
          "execution_count": 91
        }
      ],
      "source": [
        "sum(Y_val)"
      ]
    },
    {
      "cell_type": "code",
      "source": [
        "import matplotlib.pyplot as plt\n",
        "\n",
        "# Load the array\n",
        "ecg_data = sio.loadmat(mypath + NewFileList[1])['val']\n",
        "\n",
        "# Plot the ECG signal\n",
        "plt.figure(figsize=(10, 4))\n",
        "plt.plot(ecg_data.ravel(), color='blue')\n",
        "plt.title('ECG Signal')\n",
        "plt.xlabel('Sample Index')\n",
        "plt.ylabel('Amplitude')\n",
        "plt.grid(True)\n",
        "plt.show()\n",
        "\n"
      ],
      "metadata": {
        "id": "CfVWdUA7d2Bx",
        "colab": {
          "base_uri": "https://localhost:8080/",
          "height": 410
        },
        "outputId": "4e04ab9b-9eca-48d1-da9a-535d4265fead"
      },
      "execution_count": null,
      "outputs": [
        {
          "output_type": "display_data",
          "data": {
            "text/plain": [
              "<Figure size 1000x400 with 1 Axes>"
            ],
            "image/png": "[encoded data removed]"
          },
          "metadata": {}
        }
      ]
    },
    {
      "cell_type": "code",
      "source": [
        "# Get the filename of the sample\n",
        "filename = NewFileList[1]\n",
        "\n",
        "# Extract the prefix to match with the labels\n",
        "prefix = filename[:6]\n",
        "\n",
        "# Find the index corresponding to the prefix in the original file list\n",
        "index = [i for i, file in enumerate(TrainDataSuffled[0]) if file.startswith(prefix)][0]\n",
        "\n",
        "# Get the label from target_train at the corresponding index\n",
        "label = target_train[index]\n",
        "\n",
        "print(\"Label assigned to the sample:\", label)\n"
      ],
      "metadata": {
        "colab": {
          "base_uri": "https://localhost:8080/"
        },
        "id": "HwaMxIKyhoPU",
        "outputId": "3464b7ae-4f02-4263-a6ce-403129925d9f"
      },
      "execution_count": null,
      "outputs": [
        {
          "output_type": "stream",
          "name": "stdout",
          "text": [
            "Label assigned to the sample: [0.]\n"
          ]
        }
      ]
    },
    {
      "cell_type": "code",
      "execution_count": null,
      "metadata": {
        "colab": {
          "base_uri": "https://localhost:8080/",
          "height": 53
        },
        "id": "YaMYdWGgwLfM",
        "outputId": "5df5fcff-a568-473e-965a-2425d9947e6d"
      },
      "outputs": [
        {
          "output_type": "execute_result",
          "data": {
            "text/plain": [
              "\"\\nearly_stopping = keras.callbacks.EarlyStopping(monitor='val_loss', min_delta=0, patience=50, verbose=1, mode='auto')\\nadam = keras.optimizers.Adam(learning_rate = 0.00001, beta_1 = 0.9, beta_2 = 0.999, epsilon = 1e-08, decay = 0.001)\\nadam = Adam(learning_rate=0.00001)\\n\\nmodel.compile(loss = 'categorical_crossentropy', optimizer = adam, metrics = ['accuracy']) #categorical_crossentropy\\n\""
            ],
            "application/vnd.google.colaboratory.intrinsic+json": {
              "type": "string"
            }
          },
          "metadata": {},
          "execution_count": 27
        }
      ],
      "source": [
        "# Deep BiLSTM Model\n",
        "batch_size = 64\n",
        "x_train = X_train,\n",
        "y_train = Y_train\n",
        "x_val = X_val,\n",
        "y_val = Y_val\n",
        "\n",
        "model = Sequential()\n",
        "model.add(Bidirectional(LSTM(1024, return_sequences=True), input_shape=(1, SampleSize)))\n",
        "model.add(Dropout(0.25))\n",
        "\n",
        "model.add(Bidirectional(LSTM(512, return_sequences=True)))\n",
        "model.add(Dropout(0.25))\n",
        "\n",
        "model.add(Bidirectional(LSTM(256, return_sequences=True)))\n",
        "model.add(Dropout(0.25))\n",
        "\n",
        "model.add(Bidirectional(LSTM(128, return_sequences=True)))\n",
        "model.add(Dropout(0.25))\n",
        "\n",
        "model.add(Bidirectional(LSTM(64)))\n",
        "#model.add(BatchNormalization())\n",
        "\n",
        "model.add(Dense(64, activation='relu'))\n",
        "#model.add(BatchNormalization())\n",
        "\n",
        "model.add(Dense(32, activation='relu'))\n",
        "#model.add(BatchNormalization())\n",
        "\n",
        "#output layer\n",
        "model.add(Dense(number_of_classes, activation='softmax'))\n",
        "\n",
        "initial_learning_rate = 0.00001\n",
        "lr_schedule = tf.keras.optimizers.schedules.ExponentialDecay(\n",
        "    initial_learning_rate, decay_steps=10000, decay_rate=0.9, staircase=True\n",
        ")\n",
        "\n",
        "early_stopping = EarlyStopping(monitor='val_loss', min_delta=0, patience=50, verbose=1, mode='auto')\n",
        "adam = Adam(learning_rate=lr_schedule, beta_1=0.9, beta_2=0.999, epsilon=1e-08)\n",
        "\n",
        "model.compile(loss='categorical_crossentropy', optimizer=adam, metrics=['accuracy'])\n",
        "\n",
        "# old version\n",
        "'''\n",
        "early_stopping = keras.callbacks.EarlyStopping(monitor='val_loss', min_delta=0, patience=50, verbose=1, mode='auto')\n",
        "adam = keras.optimizers.Adam(learning_rate = 0.00001, beta_1 = 0.9, beta_2 = 0.999, epsilon = 1e-08, decay = 0.001)\n",
        "adam = Adam(learning_rate=0.00001)\n",
        "\n",
        "model.compile(loss = 'categorical_crossentropy', optimizer = adam, metrics = ['accuracy']) #categorical_crossentropy\n",
        "'''\n",
        "# end"
      ]
    },
    {
      "cell_type": "code",
      "execution_count": null,
      "metadata": {
        "id": "zgSiZ5OjxD67"
      },
      "outputs": [],
      "source": []
    },
    {
      "cell_type": "code",
      "execution_count": null,
      "metadata": {
        "colab": {
          "base_uri": "https://localhost:8080/"
        },
        "id": "7TcI6pRhxFk7",
        "outputId": "d61ad726-5d7e-4839-e7b2-e5407a0300c3"
      },
      "outputs": [
        {
          "output_type": "stream",
          "name": "stdout",
          "text": [
            "Model: \"sequential\"\n",
            "_________________________________________________________________\n",
            " Layer (type)                Output Shape              Param #   \n",
            "=================================================================\n",
            " bidirectional (Bidirection  (None, 1, 2048)           82124800  \n",
            " al)                                                             \n",
            "                                                                 \n",
            " dropout (Dropout)           (None, 1, 2048)           0         \n",
            "                                                                 \n",
            " bidirectional_1 (Bidirecti  (None, 1, 1024)           10489856  \n",
            " onal)                                                           \n",
            "                                                                 \n",
            " dropout_1 (Dropout)         (None, 1, 1024)           0         \n",
            "                                                                 \n",
            " bidirectional_2 (Bidirecti  (None, 1, 512)            2623488   \n",
            " onal)                                                           \n",
            "                                                                 \n",
            " dropout_2 (Dropout)         (None, 1, 512)            0         \n",
            "                                                                 \n",
            " bidirectional_3 (Bidirecti  (None, 1, 256)            656384    \n",
            " onal)                                                           \n",
            "                                                                 \n",
            " dropout_3 (Dropout)         (None, 1, 256)            0         \n",
            "                                                                 \n",
            " bidirectional_4 (Bidirecti  (None, 128)               164352    \n",
            " onal)                                                           \n",
            "                                                                 \n",
            " dense (Dense)               (None, 64)                8256      \n",
            "                                                                 \n",
            " dense_1 (Dense)             (None, 32)                2080      \n",
            "                                                                 \n",
            " dense_2 (Dense)             (None, 4)                 132       \n",
            "                                                                 \n",
            "=================================================================\n",
            "Total params: 96069348 (366.48 MB)\n",
            "Trainable params: 96069348 (366.48 MB)\n",
            "Non-trainable params: 0 (0.00 Byte)\n",
            "_________________________________________________________________\n"
          ]
        }
      ],
      "source": [
        "model.summary()"
      ]
    },
    {
      "cell_type": "markdown",
      "metadata": {
        "id": "HjTH6JfWyQUw"
      },
      "source": [
        "Model: \"sequential\"\n",
        "_________________________________________________________________\n",
        " Layer (type)                Output Shape              Param #   \n",
        "=================================================================\n",
        " bidirectional (Bidirection  (None, 1, 2048)           82124800  \n",
        " al)                                                             \n",
        "                                                                 \n",
        " dropout (Dropout)           (None, 1, 2048)           0         \n",
        "                                                                 \n",
        " bidirectional_1 (Bidirecti  (None, 1, 1024)           10489856  \n",
        " onal)                                                           \n",
        "                                                                 \n",
        " dropout_1 (Dropout)         (None, 1, 1024)           0         \n",
        "                                                                 \n",
        " bidirectional_2 (Bidirecti  (None, 1, 512)            2623488   \n",
        " onal)                                                           \n",
        "                                                                 \n",
        " dropout_2 (Dropout)         (None, 1, 512)            0         \n",
        "                                                                 \n",
        " bidirectional_3 (Bidirecti  (None, 1, 256)            656384    \n",
        " onal)                                                           \n",
        "                                                                 \n",
        " dropout_3 (Dropout)         (None, 1, 256)            0         \n",
        "                                                                 \n",
        " bidirectional_4 (Bidirecti  (None, 128)               164352    \n",
        " onal)                                                           \n",
        "                                                                 \n",
        " dense (Dense)               (None, 64)                8256      \n",
        "                                                                 \n",
        " dense_1 (Dense)             (None, 32)                2080      \n",
        "                                                                 \n",
        " dense_2 (Dense)             (None, 4)                 132       \n",
        "                                                                 \n",
        "=================================================================\n",
        "Total params: 96069348 (366.48 MB)\n",
        "Trainable params: 96069348 (366.48 MB)\n",
        "Non-trainable params: 0 (0.00 Byte)\n",
        "_________________________________________________________________"
      ]
    },
    {
      "cell_type": "code",
      "execution_count": null,
      "metadata": {
        "id": "pDxDhqSLyUIj",
        "colab": {
          "base_uri": "https://localhost:8080/"
        },
        "outputId": "1ce62947-176f-4e14-bc78-5912e0779c3b"
      },
      "outputs": [
        {
          "output_type": "stream",
          "name": "stdout",
          "text": [
            "Epoch 1/40\n",
            "239/239 - 40s - loss: 1.3858 - accuracy: 0.2991 - val_loss: 1.3847 - val_accuracy: 0.3965 - 40s/epoch - 167ms/step\n",
            "Epoch 2/40\n",
            "239/239 - 17s - loss: 1.3830 - accuracy: 0.4084 - val_loss: 1.3789 - val_accuracy: 0.5867 - 17s/epoch - 72ms/step\n",
            "Epoch 3/40\n",
            "239/239 - 16s - loss: 1.3703 - accuracy: 0.6373 - val_loss: 1.3554 - val_accuracy: 0.6861 - 16s/epoch - 66ms/step\n",
            "Epoch 4/40\n",
            "239/239 - 16s - loss: 1.3155 - accuracy: 0.6888 - val_loss: 1.2370 - val_accuracy: 0.6667 - 16s/epoch - 67ms/step\n",
            "Epoch 5/40\n",
            "239/239 - 16s - loss: 1.0017 - accuracy: 0.6371 - val_loss: 0.7885 - val_accuracy: 0.6696 - 16s/epoch - 66ms/step\n",
            "Epoch 6/40\n",
            "239/239 - 16s - loss: 0.6610 - accuracy: 0.7345 - val_loss: 0.5626 - val_accuracy: 0.7784 - 16s/epoch - 69ms/step\n",
            "Epoch 7/40\n",
            "239/239 - 18s - loss: 0.4552 - accuracy: 0.8145 - val_loss: 0.4092 - val_accuracy: 0.8447 - 18s/epoch - 74ms/step\n",
            "Epoch 8/40\n",
            "239/239 - 16s - loss: 0.3310 - accuracy: 0.8915 - val_loss: 0.3080 - val_accuracy: 0.8946 - 16s/epoch - 66ms/step\n",
            "Epoch 9/40\n",
            "239/239 - 16s - loss: 0.2269 - accuracy: 0.9383 - val_loss: 0.2385 - val_accuracy: 0.9093 - 16s/epoch - 66ms/step\n",
            "Epoch 10/40\n",
            "239/239 - 17s - loss: 0.1492 - accuracy: 0.9645 - val_loss: 0.1969 - val_accuracy: 0.9226 - 17s/epoch - 72ms/step\n",
            "Epoch 11/40\n",
            "239/239 - 16s - loss: 0.0992 - accuracy: 0.9764 - val_loss: 0.1809 - val_accuracy: 0.9271 - 16s/epoch - 66ms/step\n",
            "Epoch 12/40\n",
            "239/239 - 16s - loss: 0.0681 - accuracy: 0.9849 - val_loss: 0.1763 - val_accuracy: 0.9297 - 16s/epoch - 66ms/step\n",
            "Epoch 13/40\n",
            "239/239 - 16s - loss: 0.0526 - accuracy: 0.9875 - val_loss: 0.1739 - val_accuracy: 0.9310 - 16s/epoch - 66ms/step\n",
            "Epoch 14/40\n",
            "239/239 - 16s - loss: 0.0393 - accuracy: 0.9908 - val_loss: 0.1794 - val_accuracy: 0.9300 - 16s/epoch - 66ms/step\n",
            "Epoch 15/40\n",
            "239/239 - 16s - loss: 0.0307 - accuracy: 0.9934 - val_loss: 0.1839 - val_accuracy: 0.9339 - 16s/epoch - 66ms/step\n",
            "Epoch 16/40\n",
            "239/239 - 16s - loss: 0.0239 - accuracy: 0.9955 - val_loss: 0.1924 - val_accuracy: 0.9336 - 16s/epoch - 66ms/step\n",
            "Epoch 17/40\n",
            "239/239 - 16s - loss: 0.0180 - accuracy: 0.9966 - val_loss: 0.1952 - val_accuracy: 0.9329 - 16s/epoch - 66ms/step\n",
            "Epoch 18/40\n",
            "239/239 - 16s - loss: 0.0164 - accuracy: 0.9966 - val_loss: 0.2035 - val_accuracy: 0.9342 - 16s/epoch - 66ms/step\n",
            "Epoch 19/40\n",
            "239/239 - 16s - loss: 0.0150 - accuracy: 0.9963 - val_loss: 0.2067 - val_accuracy: 0.9350 - 16s/epoch - 67ms/step\n",
            "Epoch 20/40\n",
            "239/239 - 16s - loss: 0.0126 - accuracy: 0.9969 - val_loss: 0.2105 - val_accuracy: 0.9360 - 16s/epoch - 66ms/step\n",
            "Epoch 21/40\n",
            "239/239 - 16s - loss: 0.0121 - accuracy: 0.9970 - val_loss: 0.2152 - val_accuracy: 0.9336 - 16s/epoch - 66ms/step\n",
            "Epoch 22/40\n",
            "239/239 - 16s - loss: 0.0102 - accuracy: 0.9975 - val_loss: 0.2166 - val_accuracy: 0.9357 - 16s/epoch - 66ms/step\n",
            "Epoch 23/40\n",
            "239/239 - 16s - loss: 0.0085 - accuracy: 0.9979 - val_loss: 0.2219 - val_accuracy: 0.9363 - 16s/epoch - 66ms/step\n",
            "Epoch 24/40\n",
            "239/239 - 16s - loss: 0.0091 - accuracy: 0.9976 - val_loss: 0.2239 - val_accuracy: 0.9360 - 16s/epoch - 66ms/step\n",
            "Epoch 25/40\n",
            "239/239 - 16s - loss: 0.0089 - accuracy: 0.9976 - val_loss: 0.2277 - val_accuracy: 0.9350 - 16s/epoch - 66ms/step\n",
            "Epoch 26/40\n",
            "239/239 - 16s - loss: 0.0078 - accuracy: 0.9983 - val_loss: 0.2322 - val_accuracy: 0.9350 - 16s/epoch - 66ms/step\n",
            "Epoch 27/40\n",
            "239/239 - 16s - loss: 0.0073 - accuracy: 0.9982 - val_loss: 0.2351 - val_accuracy: 0.9363 - 16s/epoch - 66ms/step\n",
            "Epoch 28/40\n",
            "239/239 - 16s - loss: 0.0068 - accuracy: 0.9982 - val_loss: 0.2396 - val_accuracy: 0.9344 - 16s/epoch - 66ms/step\n",
            "Epoch 29/40\n",
            "239/239 - 16s - loss: 0.0057 - accuracy: 0.9984 - val_loss: 0.2449 - val_accuracy: 0.9331 - 16s/epoch - 66ms/step\n",
            "Epoch 30/40\n",
            "239/239 - 16s - loss: 0.0055 - accuracy: 0.9986 - val_loss: 0.2462 - val_accuracy: 0.9357 - 16s/epoch - 66ms/step\n",
            "Epoch 31/40\n",
            "239/239 - 16s - loss: 0.0063 - accuracy: 0.9980 - val_loss: 0.2468 - val_accuracy: 0.9373 - 16s/epoch - 66ms/step\n",
            "Epoch 32/40\n",
            "239/239 - 16s - loss: 0.0050 - accuracy: 0.9987 - val_loss: 0.2549 - val_accuracy: 0.9352 - 16s/epoch - 66ms/step\n",
            "Epoch 33/40\n",
            "239/239 - 17s - loss: 0.0049 - accuracy: 0.9985 - val_loss: 0.2575 - val_accuracy: 0.9355 - 17s/epoch - 72ms/step\n",
            "Epoch 34/40\n",
            "239/239 - 16s - loss: 0.0060 - accuracy: 0.9982 - val_loss: 0.2607 - val_accuracy: 0.9326 - 16s/epoch - 66ms/step\n",
            "Epoch 35/40\n",
            "239/239 - 16s - loss: 0.0045 - accuracy: 0.9986 - val_loss: 0.2646 - val_accuracy: 0.9368 - 16s/epoch - 66ms/step\n",
            "Epoch 36/40\n",
            "239/239 - 16s - loss: 0.0049 - accuracy: 0.9984 - val_loss: 0.2622 - val_accuracy: 0.9342 - 16s/epoch - 66ms/step\n",
            "Epoch 37/40\n",
            "239/239 - 17s - loss: 0.0046 - accuracy: 0.9985 - val_loss: 0.2584 - val_accuracy: 0.9360 - 17s/epoch - 72ms/step\n",
            "Epoch 38/40\n",
            "239/239 - 16s - loss: 0.0048 - accuracy: 0.9984 - val_loss: 0.2609 - val_accuracy: 0.9394 - 16s/epoch - 66ms/step\n",
            "Epoch 39/40\n",
            "239/239 - 16s - loss: 0.0051 - accuracy: 0.9987 - val_loss: 0.2625 - val_accuracy: 0.9373 - 16s/epoch - 66ms/step\n",
            "Epoch 40/40\n",
            "239/239 - 16s - loss: 0.0054 - accuracy: 0.9985 - val_loss: 0.2648 - val_accuracy: 0.9397 - 16s/epoch - 66ms/step\n",
            "120/120 [==============================] - 5s 17ms/step\n"
          ]
        }
      ],
      "source": [
        "history = model.fit(x_train, y_train, epochs=40, batch_size=batch_size,\n",
        "                    validation_data=(x_val, y_val), verbose=2, shuffle=False,\n",
        "                    callbacks=[early_stopping])\n",
        "# model.save('Keras_models/LSTM_ECG_Model_' + str(i) + '_' + str(j) + '_' + str() + '.h5')\n",
        "predictions = model.predict(x_val)"
      ]
    },
    {
      "cell_type": "code",
      "source": [
        "from keras.models import load_model\n",
        "# Save the model\n",
        "model.save('/content/drive/MyDrive/dataset/ecg_model_40_ephos.h5')"
      ],
      "metadata": {
        "id": "fOPVm3tF4FLl",
        "colab": {
          "base_uri": "https://localhost:8080/"
        },
        "outputId": "1a41dbdc-eb39-4562-d7b0-eef9f371b9f6"
      },
      "execution_count": null,
      "outputs": [
        {
          "output_type": "stream",
          "name": "stderr",
          "text": [
            "/usr/local/lib/python3.10/dist-packages/keras/src/engine/training.py:3103: UserWarning: You are saving your model as an HDF5 file via `model.save()`. This file format is considered legacy. We recommend using instead the native Keras format, e.g. `model.save('my_model.keras')`.\n",
            "  saving_api.save_model(\n"
          ]
        }
      ]
    },
    {
      "cell_type": "code",
      "execution_count": null,
      "metadata": {
        "id": "vSwxnb2WyW_h"
      },
      "outputs": [],
      "source": [
        "'''\n",
        "from sklearn.metrics import (confusion_matrix, accuracy_score, precision_score, recall_score, f1_score)\n",
        "Y_actual = discritize(y_val)\n",
        "Y_predict = discritize(predictions)\n",
        "\n",
        "Accuracy = accuracy_score(Y_actual, Y_predict)\n",
        "Precision = precision_score(Y_actual, Y_predict, average='weighted')\n",
        "Recall = recall_score(Y_actual, Y_predict, average='weighted')\n",
        "F1score = f1_score(Y_actual, Y_predict, average='weighted')\n",
        "\n",
        "print(Accuracy, Precision, Recall, F1score)\n",
        "'''"
      ]
    },
    {
      "cell_type": "code",
      "execution_count": null,
      "metadata": {
        "id": "PD8dDjipyZBg",
        "colab": {
          "base_uri": "https://localhost:8080/"
        },
        "outputId": "a6c5cc6e-20ad-45e2-ee00-a0dfbba302d9"
      },
      "outputs": [
        {
          "output_type": "stream",
          "name": "stdout",
          "text": [
            "[[0 0 1 0]\n",
            " [0 0 0 1]\n",
            " [0 0 1 0]\n",
            " ...\n",
            " [0 0 1 0]\n",
            " [1 0 0 0]\n",
            " [0 0 0 1]]\n",
            "[[0 0 1 0]\n",
            " [0 0 0 1]\n",
            " [0 0 1 0]\n",
            " ...\n",
            " [0 0 1 0]\n",
            " [1 0 0 0]\n",
            " [0 0 0 1]]\n",
            "Accuracy: 0.9386309992132179\n",
            "Precision: 0.9402623079442567\n",
            "Recall: 0.9386309992132179\n",
            "F1 Score: 0.939435320217654\n"
          ]
        }
      ],
      "source": [
        "from sklearn.metrics import confusion_matrix, accuracy_score, precision_score, recall_score, f1_score\n",
        "\n",
        "# Assuming discritize is a function that converts continuous/probability predictions to discrete classes\n",
        "def discritize(predictions, threshold=0.5):\n",
        "    #return np.argmax(predictions, axis=1)\n",
        "    return np.array([[1 if pred >= threshold else 0 for pred in row] for row in predictions])\n",
        "\n",
        "# Assuming y_val and predictions are available\n",
        "Y_actual = discritize(y_val)\n",
        "Y_predict = discritize(predictions)\n",
        "\n",
        "print(Y_actual)\n",
        "print(Y_predict)\n",
        "\n",
        "# Calculate classification metrics\n",
        "Accuracy = accuracy_score(Y_actual, Y_predict)\n",
        "Precision = precision_score(Y_actual, Y_predict, average='weighted')\n",
        "Recall = recall_score(Y_actual, Y_predict, average='weighted')\n",
        "F1score = f1_score(Y_actual, Y_predict, average='weighted')\n",
        "\n",
        "# Print the metrics\n",
        "print(\"Accuracy:\", Accuracy)\n",
        "print(\"Precision:\", Precision)\n",
        "print(\"Recall:\", Recall)\n",
        "print(\"F1 Score:\", F1score)"
      ]
    },
    {
      "cell_type": "code",
      "execution_count": null,
      "metadata": {
        "colab": {
          "base_uri": "https://localhost:8080/",
          "height": 489
        },
        "id": "dzV2uEEyya_y",
        "outputId": "9ad319d8-70a0-428a-a5cc-c823814eefa6"
      },
      "outputs": [
        {
          "output_type": "stream",
          "name": "stdout",
          "text": [
            "dict_keys(['loss', 'accuracy', 'val_loss', 'val_accuracy'])\n"
          ]
        },
        {
          "output_type": "display_data",
          "data": {
            "text/plain": [
              "<Figure size 640x480 with 1 Axes>"
            ],
            "image/png": "[encoded data removed]"
          },
          "metadata": {}
        }
      ],
      "source": [
        "print(history.history.keys())\n",
        "# summarize history for accuracy\n",
        "plt.plot(history.history['accuracy'])\n",
        "plt.plot(history.history['val_accuracy'])\n",
        "plt.title('model accuracy')\n",
        "plt.ylabel('accuracy')\n",
        "plt.xlabel('epoch')\n",
        "plt.legend(['train Acc', 'val Acc'], loc='upper right')\n",
        "plt.show()"
      ]
    },
    {
      "cell_type": "code",
      "execution_count": null,
      "metadata": {
        "colab": {
          "base_uri": "https://localhost:8080/",
          "height": 472
        },
        "id": "ZLlU8ecxyevQ",
        "outputId": "bbe4edc2-a8c1-4a91-99c9-5631e846f54c"
      },
      "outputs": [
        {
          "output_type": "display_data",
          "data": {
            "text/plain": [
              "<Figure size 640x480 with 1 Axes>"
            ],
            "image/png": "[encoded data removed]"
          },
          "metadata": {}
        }
      ],
      "source": [
        "# summarize history for loss\n",
        "plt.plot(history.history['loss'])\n",
        "plt.plot(history.history['val_loss'])\n",
        "plt.title('model loss')\n",
        "plt.ylabel('loss')\n",
        "plt.xlabel('epoch')\n",
        "plt.legend(['train-loss', 'val-loss'], loc='upper right')\n",
        "plt.show()"
      ]
    },
    {
      "cell_type": "code",
      "execution_count": null,
      "metadata": {
        "colab": {
          "base_uri": "https://localhost:8080/"
        },
        "id": "2fMxvTKTyg8o",
        "outputId": "c8127c22-a2bd-425f-af3f-2963bd5e84d0"
      },
      "outputs": [
        {
          "output_type": "stream",
          "name": "stdout",
          "text": [
            "120/120 [==============================] - 6s 17ms/step\n"
          ]
        },
        {
          "output_type": "execute_result",
          "data": {
            "text/plain": [
              "array([[3.90475529e-04, 7.74015740e-10, 9.99609411e-01, 1.38104738e-07],\n",
              "       [1.08281147e-05, 2.14048978e-05, 2.08801412e-05, 9.99946952e-01],\n",
              "       [9.17547266e-04, 4.92052088e-09, 9.99081850e-01, 5.38032566e-07],\n",
              "       ...,\n",
              "       [2.43560993e-04, 2.11508533e-10, 9.99756396e-01, 5.18150785e-08],\n",
              "       [9.99653578e-01, 1.12229114e-04, 2.34170482e-04, 9.39674560e-10],\n",
              "       [8.52213088e-06, 1.70298081e-05, 1.66524405e-05, 9.99957800e-01]],\n",
              "      dtype=float32)"
            ]
          },
          "metadata": {},
          "execution_count": 34
        }
      ],
      "source": [
        "predictions = model.predict(X_val)\n",
        "predictions"
      ]
    },
    {
      "cell_type": "code",
      "source": [],
      "metadata": {
        "id": "wWpNLc9_kKro"
      },
      "execution_count": null,
      "outputs": []
    },
    {
      "cell_type": "code",
      "execution_count": null,
      "metadata": {
        "colab": {
          "base_uri": "https://localhost:8080/"
        },
        "id": "xxuOI2WWyivL",
        "outputId": "d681e558-243a-4bd0-d1aa-2c7eb1dd7ba2"
      },
      "outputs": [
        {
          "output_type": "execute_result",
          "data": {
            "text/plain": [
              "(array([[0., 0., 1., 0.],\n",
              "        [0., 0., 0., 1.],\n",
              "        [0., 0., 1., 0.],\n",
              "        ...,\n",
              "        [0., 0., 1., 0.],\n",
              "        [1., 0., 0., 0.],\n",
              "        [0., 0., 0., 1.]]),\n",
              " array([[0, 0, 1, 0],\n",
              "        [0, 0, 0, 1],\n",
              "        [0, 0, 1, 0],\n",
              "        ...,\n",
              "        [0, 0, 1, 0],\n",
              "        [1, 0, 0, 0],\n",
              "        [0, 0, 0, 1]]))"
            ]
          },
          "metadata": {},
          "execution_count": 101
        }
      ],
      "source": [
        "Y_val, Y_predict"
      ]
    },
    {
      "cell_type": "code",
      "source": [
        "out = pd.read_csv('/content/drive/MyDrive/dataset/data_second.csv')\n",
        "out.shape\n",
        "\n",
        "\n"
      ],
      "metadata": {
        "colab": {
          "base_uri": "https://localhost:8080/"
        },
        "id": "2GbT06FaZ-yd",
        "outputId": "85830a2b-aad3-462a-cff7-5e97f4dae34f"
      },
      "execution_count": null,
      "outputs": [
        {
          "output_type": "execute_result",
          "data": {
            "text/plain": [
              "(13604, 1)"
            ]
          },
          "metadata": {},
          "execution_count": 45
        }
      ]
    },
    {
      "cell_type": "code",
      "source": [
        "out=np.array(out)\n",
        "out=out.reshape(1,13604)"
      ],
      "metadata": {
        "id": "q5q8UMmkcN6M"
      },
      "execution_count": null,
      "outputs": []
    },
    {
      "cell_type": "code",
      "source": [
        "out=out[:,0:9000]"
      ],
      "metadata": {
        "id": "F5PCYD9xcNxT"
      },
      "execution_count": null,
      "outputs": []
    },
    {
      "cell_type": "code",
      "source": [
        "out=out.reshape(1,1,9000)"
      ],
      "metadata": {
        "id": "NzhYRMeNcNqU"
      },
      "execution_count": null,
      "outputs": []
    },
    {
      "cell_type": "code",
      "source": [
        "pre=model.predict(out)"
      ],
      "metadata": {
        "colab": {
          "base_uri": "https://localhost:8080/"
        },
        "id": "2bfV0OEUcNib",
        "outputId": "cb5fde05-40d5-4734-9a0a-d51dfda2b1c3"
      },
      "execution_count": null,
      "outputs": [
        {
          "output_type": "stream",
          "name": "stdout",
          "text": [
            "1/1 [==============================] - 0s 33ms/step\n"
          ]
        }
      ]
    },
    {
      "cell_type": "code",
      "source": [
        "pre.argmax()\n"
      ],
      "metadata": {
        "colab": {
          "base_uri": "https://localhost:8080/"
        },
        "id": "zTHeTdxBcMl_",
        "outputId": "382294bf-44f4-4219-8387-51ff70fcfb7e"
      },
      "execution_count": null,
      "outputs": [
        {
          "output_type": "execute_result",
          "data": {
            "text/plain": [
              "0"
            ]
          },
          "metadata": {},
          "execution_count": 96
        }
      ]
    },
    {
      "cell_type": "code",
      "source": [
        "out = pd.read_csv('/content/drive/MyDrive/dataset/new3rd.csv')\n",
        "out.shape"
      ],
      "metadata": {
        "colab": {
          "base_uri": "https://localhost:8080/"
        },
        "id": "TFyWeNpUo8P5",
        "outputId": "684c050e-c3f2-452a-a490-8fa57b86f257"
      },
      "execution_count": null,
      "outputs": [
        {
          "output_type": "execute_result",
          "data": {
            "text/plain": [
              "(10872, 1)"
            ]
          },
          "metadata": {},
          "execution_count": 66
        }
      ]
    },
    {
      "cell_type": "code",
      "source": [
        "out=np.array(out)\n",
        "out=out.reshape(1,10872)"
      ],
      "metadata": {
        "id": "yn9Y13Sgo8Mk"
      },
      "execution_count": null,
      "outputs": []
    },
    {
      "cell_type": "code",
      "source": [
        "out=out[:,0:9000]"
      ],
      "metadata": {
        "id": "SkQeLbrLo8KP"
      },
      "execution_count": null,
      "outputs": []
    },
    {
      "cell_type": "code",
      "source": [
        "out=out.reshape(1,1,9000)"
      ],
      "metadata": {
        "id": "nNW4ipdzo8Hz"
      },
      "execution_count": null,
      "outputs": []
    },
    {
      "cell_type": "code",
      "source": [
        "pre=model.predict(out)"
      ],
      "metadata": {
        "colab": {
          "base_uri": "https://localhost:8080/"
        },
        "id": "E6PDiWGko8FL",
        "outputId": "3c584bf9-6c79-4cf1-fa72-0bcef580cf18"
      },
      "execution_count": null,
      "outputs": [
        {
          "output_type": "stream",
          "name": "stdout",
          "text": [
            "1/1 [==============================] - 0s 22ms/step\n"
          ]
        }
      ]
    },
    {
      "cell_type": "code",
      "source": [
        "pre.argmax()"
      ],
      "metadata": {
        "colab": {
          "base_uri": "https://localhost:8080/"
        },
        "id": "eUGZF6MIo53W",
        "outputId": "5a98efd2-804f-4243-daa1-7e35a0dd5db0"
      },
      "execution_count": null,
      "outputs": [
        {
          "output_type": "execute_result",
          "data": {
            "text/plain": [
              "0"
            ]
          },
          "metadata": {},
          "execution_count": 72
        }
      ]
    },
    {
      "cell_type": "code",
      "source": [
        "import matplotlib.pyplot as plt\n",
        "\n",
        "# Load the array\n",
        "ecg_data_1 = out\n",
        "\n",
        "# Plot the ECG signal\n",
        "plt.figure(figsize=(10, 4))\n",
        "plt.plot(ecg_data_1.ravel(), color='blue')\n",
        "plt.title('ECG Signal')\n",
        "plt.xlabel('Sample Index')\n",
        "plt.ylabel('Amplitude')\n",
        "plt.grid(True)\n",
        "plt.show()"
      ],
      "metadata": {
        "colab": {
          "base_uri": "https://localhost:8080/",
          "height": 410
        },
        "id": "s6dHh1WppeR4",
        "outputId": "0682fdd6-fb1c-4fcb-dfdd-397dd4371a02"
      },
      "execution_count": null,
      "outputs": [
        {
          "output_type": "display_data",
          "data": {
            "text/plain": [
              "<Figure size 1000x400 with 1 Axes>"
            ],
            "image/png": "[encoded data removed]"
          },
          "metadata": {}
        }
      ]
    },
    {
      "cell_type": "code",
      "source": [
        "from sklearn.metrics import confusion_matrix\n",
        "import seaborn as sns\n",
        "\n",
        "# Make predictions using the trained model\n",
        "predictions = model.predict(X_val)\n",
        "\n",
        "# Convert one-hot encoded labels to class indices for predictions and actual labels\n",
        "y_pred_classes = np.argmax(predictions, axis=1)\n",
        "y_true_classes = np.argmax(y_val, axis=1)\n",
        "\n",
        "# Calculate the confusion matrix\n",
        "conf_matrix = confusion_matrix(y_true_classes, y_pred_classes)\n",
        "\n",
        "# Visualize the confusion matrix\n",
        "plt.figure(figsize=(10, 8))\n",
        "sns.heatmap(conf_matrix, annot=True, fmt='d', cmap='Blues',\n",
        "            xticklabels=['Class 0', 'Class 1', 'Class 2', 'Class 3'],\n",
        "            yticklabels=['Class 0', 'Class 1', 'Class 2', 'Class 3'])\n",
        "plt.xlabel('Predicted Labels')\n",
        "plt.ylabel('True Labels')\n",
        "plt.title('Confusion Matrix')\n",
        "plt.show()\n"
      ],
      "metadata": {
        "colab": {
          "base_uri": "https://localhost:8080/",
          "height": 735
        },
        "id": "XDElU_tqsrj8",
        "outputId": "efe2f68b-17e3-4471-aee0-9989973ae189"
      },
      "execution_count": null,
      "outputs": [
        {
          "output_type": "stream",
          "name": "stdout",
          "text": [
            "120/120 [==============================] - 2s 18ms/step\n"
          ]
        },
        {
          "output_type": "display_data",
          "data": {
            "text/plain": [
              "<Figure size 1000x800 with 2 Axes>"
            ],
            "image/png": "[encoded data removed]"
          },
          "metadata": {}
        }
      ]
    },
    {
      "cell_type": "code",
      "source": [
        "x_val_1 = np.array(X_val)\n",
        "x_val_1.shape"
      ],
      "metadata": {
        "colab": {
          "base_uri": "https://localhost:8080/"
        },
        "id": "zRUh99XdtHFL",
        "outputId": "9a3990f1-7c07-4bd6-9da0-edf5cc6b2926"
      },
      "execution_count": null,
      "outputs": [
        {
          "output_type": "execute_result",
          "data": {
            "text/plain": [
              "(3813, 1, 9000)"
            ]
          },
          "metadata": {},
          "execution_count": 94
        }
      ]
    },
    {
      "cell_type": "code",
      "source": [],
      "metadata": {
        "id": "dst970MqtgrD"
      },
      "execution_count": null,
      "outputs": []
    }
  ],
  "metadata": {
    "accelerator": "GPU",
    "colab": {
      "gpuType": "T4",
      "provenance": []
    },
    "kernelspec": {
      "display_name": "Python 3",
      "name": "python3"
    },
    "language_info": {
      "name": "python"
    }
  },
  "nbformat": 4,
  "nbformat_minor": 0
}